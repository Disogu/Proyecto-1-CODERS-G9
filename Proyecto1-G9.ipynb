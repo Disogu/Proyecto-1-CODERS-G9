{
  "metadata": {
    "kernelspec": {
      "name": "python",
      "display_name": "Python (Pyodide)",
      "language": "python"
    },
    "language_info": {
      "codemirror_mode": {
        "name": "python",
        "version": 3
      },
      "file_extension": ".py",
      "mimetype": "text/x-python",
      "name": "python",
      "nbconvert_exporter": "python",
      "pygments_lexer": "ipython3",
      "version": "3.8"
    }
  },
  "nbformat_minor": 5,
  "nbformat": 4,
  "cells": [
    {
      "id": "3d5c3561-a795-497b-af93-ac224f72afe4",
      "cell_type": "code",
      "source": "#1. Librerías básicas\nimport pandas as pd\nimport numpy as np\nimport matplotlib.pyplot as plt\nimport seaborn as sns\n\n#2. Librerías de ML\nfrom sklearn.datasets import load_breast_cancer\nfrom sklearn.model_selection import train_test_split\nfrom sklearn.feature_selection import mutual_info_classif, SelectKBest, chi2\nfrom sklearn.metrics import classification_report, confussion_matrix, accuracy_score, f1_score\n\n#3. Modelo final\nfrom sklearn.ensemble import RandomForestClassifier\n\n#4. LazyPredict\n!pip install lazypredict -q\nfrom lazypredict.Supervised import LazyClassifier\n\n#5. MLflow\n!pip install mlflow -q\nimport mlflow\nimport mlflow.sklearn",
      "metadata": {
        "trusted": true
      },
      "outputs": [],
      "execution_count": null
    },
    {
      "id": "ae0b8449-f761-4d97-aa4b-4e1ab9f04197",
      "cell_type": "code",
      "source": "# Dataset de ejemplo: cáncer de mama\ndata = load_breast_cancer()\ndf=pd.DataFrame(data.data, columns=data.feature_names)\ndf['target'] = data.target\ndf.head()",
      "metadata": {
        "trusted": true
      },
      "outputs": [],
      "execution_count": null
    },
    {
      "id": "62efb3ec-e55f-4f0f-8bb5-63937ec02b2c",
      "cell_type": "code",
      "source": "# Exploración rápida\ndf.info()\ndf.describe()\nds.isnull().sum()\nsns.countplot (data=df, x='target')\nplt.title (\"Distribución de clases\")\n",
      "metadata": {
        "trusted": true
      },
      "outputs": [],
      "execution_count": null
    },
    {
      "id": "6f4f488d-4cd7-41da-9b96-0391772847cf",
      "cell_type": "code",
      "source": "X = df.drop('target', axis=1)\ny = df['target']\n\n#Información mutua\nmi = mutual_info_classif (X, y)\nmi_series = pd.Series (mi, index=X.columns).sort_values (ascending=False)\n\nplt.figure (figsize=(10,6))\nmi_series.plot (kind='bar')\nplt.title (\"Ganancia de información mutua\")\n",
      "metadata": {
        "jupyter": {
          "source_hidden": true
        },
        "trusted": true
      },
      "outputs": [],
      "execution_count": null
    },
    {
      "id": "04f20334-0d40-4fe3-ba61-cd9bb40a90a2",
      "cell_type": "code",
      "source": "# Comparar con chi2\nchi2_selector = SelectKBest(score_func=chi2, k='all')\nchi2_selector.fit(X,y)\nchi2_scores = pd.Series (chi2_selector.scores_, index=X.columns).sort_values(ascending=False)\n\nplt.figure(figsize=(10,6))\nchi2_scores.plot(kind='bar', color='orange')\nplt.title (\"Puntajes Chi2\")\n",
      "metadata": {
        "trusted": true
      },
      "outputs": [],
      "execution_count": null
    },
    {
      "id": "cd09c03b-80c7-4ec1-8ff5-8873189c81a3",
      "cell_type": "code",
      "source": "# Elegimos las 10 mejores características\ntop_features = mi_series.head(10).index\nX_selected = X[top_features]\n\nX_train, X_test, y_train, y_test = train_test_split(X_selected, y, test_size=0.2, raandom_state=42)\n\nclf= LazyClassifier (verbose=0, ignore_warnings=True)\nmodels, predictions =clf.fit(X_train, X_test, y_train, y_test)\nmodels\n",
      "metadata": {
        "trusted": true
      },
      "outputs": [],
      "execution_count": null
    },
    {
      "id": "2bdbe9df-1f95-4119-89c1-82ee1fc5f649",
      "cell_type": "code",
      "source": "model = RandomForestClassifier(random_state=42)\nmodel.fit(X_train, y_train)\ny_pred = model.predict(X_test)\n\nprint (classification_report(y_test, y_pred))\nprint (\"Accuracy:\", accuracy_score(y_test, y_pred))\nprint (\"F1 Score:\", f1_score(y_test, y_pred))\n",
      "metadata": {
        "trusted": true
      },
      "outputs": [],
      "execution_count": null
    },
    {
      "id": "c73bb2db-abfa-499f-9e49-548695d379bf",
      "cell_type": "code",
      "source": "with mlflow.start_run():\n    acc= accuracy_score(y_test, y_pred)\n    f1= f1_score(y_test, y_pred)\n\n    mlflow.log_param(\"model\", \"RandomForestClassifier\")\n    mlflow.log_metric(\"accuracy\", acc)\n    mlflow.log_metric(\"f1_score\", f1)\n\n    mlflow.sklearn.log_model(model, \"random_forest_model\")\n\nprint (\"MLflow run registrado correctamente\")",
      "metadata": {
        "trusted": true
      },
      "outputs": [],
      "execution_count": null
    }
  ]
}