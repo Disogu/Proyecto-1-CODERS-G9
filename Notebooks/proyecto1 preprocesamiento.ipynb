{
 "cells": [
  {
   "cell_type": "code",
   "execution_count": null,
   "id": "63ebc5ea-16e9-47a5-afc3-8c47fe3b8501",
   "metadata": {},
   "outputs": [],
   "source": [
    "# Librerías\n",
    "import pandas as pd\n",
    "from sklearn.datasets import load_breast_cancer\n",
    "from sklearn.feature_selection import mutual_info_classif, SelectKBest, chi2\n",
    "# Cargar y preparar datos\n",
    "data = load_breast_cancer()\n",
    "df = pd.DataFrame(data.data, columns=data.feature_names)\n",
    "df['target'] = data.target\n",
    "X = df.drop('target', axis=1)\n",
    "y = df['target']\n",
    "# Información mutua\n",
    "mi = mutual_info_classif(X, y)\n",
    "mi_series = pd.Series(mi, index=X.columns).sort_values(ascending=False)\n",
    "mi_series.plot(kind='bar', figsize=(10,6))\n",
    "plt.title(\"Ganancia de información mutua\")\n",
    "plt.show()\n",
    "# Chi2\n",
    "chi2_selector = SelectKBest(score_func=chi2, k='all')\n",
    "chi2_selector.fit(X, y)\n",
    "chi2_scores = pd.Series(chi2_selector.scores_, index=X.columns).sort_values(ascending=False)\n",
    "chi2_scores.plot(kind='bar', color='orange', figsize=(10,6))\n",
    "plt.title(\"Puntajes Chi2\")\n",
    "plt.show()\n",
    "# Selección de las 10 mejores\n",
    "top_features = mi_series.head(10).index\n",
    "X_selected = X[top_features]\n",
    "# Guardar conjunto reducido para los siguientes notebooks\n",
    "X_selected.to_csv(\"X_selected.csv\", index=False)\n",
    "y.to_csv(\"y.csv\", index=False)\n",
    "\n"
   ]
  }
 ],
 "metadata": {
  "kernelspec": {
   "display_name": "Python [conda env:base] *",
   "language": "python",
   "name": "conda-base-py"
  },
  "language_info": {
   "codemirror_mode": {
    "name": "ipython",
    "version": 3
   },
   "file_extension": ".py",
   "mimetype": "text/x-python",
   "name": "python",
   "nbconvert_exporter": "python",
   "pygments_lexer": "ipython3",
   "version": "3.12.7"
  }
 },
 "nbformat": 4,
 "nbformat_minor": 5
}
