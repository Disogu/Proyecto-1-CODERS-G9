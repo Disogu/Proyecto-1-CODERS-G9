{
 "cells": [
  {
   "cell_type": "code",
   "execution_count": null,
   "id": "9ebb9ce0-64a1-4c96-a565-346e755c3dd0",
   "metadata": {},
   "outputs": [],
   "source": [
    "# Librerías\n",
    "import pandas as pd\n",
    "from sklearn.ensemble import RandomForestClassifier\n",
    "from sklearn.metrics import classification_report, accuracy_score, f1_score\n",
    "import mlflow\n",
    "import mlflow.sklearn\n",
    "# Cargar datos\n",
    "X = pd.read_csv(\"X_selected.csv\")\n",
    "y = pd.read_csv(\"y.csv\").squeeze()\n",
    "from sklearn.model_selection import train_test_split\n",
    "X_train, X_test, y_train, y_test = train_test_split(X, y, test_size=0.2, random_state=42)\n",
    "# Entrenar modelo final\n",
    "model = RandomForestClassifier(random_state=42)\n",
    "model.fit(X_train, y_train)\n",
    "y_pred = model.predict(X_test)\n",
    "# Evaluación\n",
    "print(classification_report(y_test, y_pred))\n",
    "print(\"Accuracy:\", accuracy_score(y_test, y_pred))\n",
    "print(\"F1 Score:\", f1_score(y_test, y_pred))\n",
    "# Registro con MLflow\n",
    "with mlflow.start_run():\n",
    "    mlflow.log_param(\"model\", \"RandomForestClassifier\")\n",
    "    mlflow.log_metric(\"accuracy\", accuracy_score(y_test, y_pred))\n",
    "    mlflow.log_metric(\"f1_score\", f1_score(y_test, y_pred))\n",
    "    mlflow.sklearn.log_model(model, \"random_forest_model\")\n",
    "print(\"MLflow run registrado correctamente\")\n"
   ]
  }
 ],
 "metadata": {
  "kernelspec": {
   "display_name": "Python [conda env:base] *",
   "language": "python",
   "name": "conda-base-py"
  },
  "language_info": {
   "codemirror_mode": {
    "name": "ipython",
    "version": 3
   },
   "file_extension": ".py",
   "mimetype": "text/x-python",
   "name": "python",
   "nbconvert_exporter": "python",
   "pygments_lexer": "ipython3",
   "version": "3.12.7"
  }
 },
 "nbformat": 4,
 "nbformat_minor": 5
}
