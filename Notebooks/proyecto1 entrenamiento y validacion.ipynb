{
 "cells": [
  {
   "cell_type": "code",
   "execution_count": null,
   "id": "6ce41d6b-7c31-40c2-89e9-4a726de9a999",
   "metadata": {},
   "outputs": [],
   "source": [
    "# Librerías\n",
    "import pandas as pd\n",
    "from sklearn.model_selection import train_test_split\n",
    "!pip install lazypredict -q\n",
    "from lazypredict.Supervised import LazyClassifier\n",
    "# Cargar datos\n",
    "X = pd.read_csv(\"X_selected.csv\")\n",
    "y = pd.read_csv(\"y.csv\").squeeze()\n",
    "# Split\n",
    "X_train, X_test, y_train, y_test = train_test_split(X, y, test_size=0.2, random_state=42)\n",
    "# LazyPredict\n",
    "clf = LazyClassifier(verbose=0, ignore_warnings=True)\n",
    "models, predictions = clf.fit(X_train, X_test, y_train, y_test)\n",
    "# Mostrar resultados\n",
    "print(models)\n",
    "models.to_csv(\"model_comparison.csv\")\n"
   ]
  },
  {
   "cell_type": "code",
   "execution_count": null,
   "id": "639497e2-7e1e-40b2-b2a8-32880ce6230a",
   "metadata": {},
   "outputs": [],
   "source": []
  }
 ],
 "metadata": {
  "kernelspec": {
   "display_name": "Python [conda env:base] *",
   "language": "python",
   "name": "conda-base-py"
  },
  "language_info": {
   "codemirror_mode": {
    "name": "ipython",
    "version": 3
   },
   "file_extension": ".py",
   "mimetype": "text/x-python",
   "name": "python",
   "nbconvert_exporter": "python",
   "pygments_lexer": "ipython3",
   "version": "3.12.7"
  }
 },
 "nbformat": 4,
 "nbformat_minor": 5
}
